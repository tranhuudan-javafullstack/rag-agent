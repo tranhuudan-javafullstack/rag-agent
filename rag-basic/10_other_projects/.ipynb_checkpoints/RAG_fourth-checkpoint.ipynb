{
  "nbformat": 4,
  "nbformat_minor": 0,
  "metadata": {
    "colab": {
      "provenance": []
    },
    "kernelspec": {
      "name": "python3",
      "display_name": "Python 3"
    },
    "language_info": {
      "name": "python"
    }
  },
  "cells": [
    {
      "cell_type": "markdown",
      "source": [
        "# Implementing and comparing different splitting methods\n"
      ],
      "metadata": {
        "id": "m2jfQU1f9HMf"
      }
    },
    {
      "cell_type": "markdown",
      "source": [
        "Installing necessary libraries"
      ],
      "metadata": {
        "id": "iWjAbNii-iTs"
      }
    },
    {
      "cell_type": "code",
      "source": [
        "!pip install sentence_transformers\n",
        "!pip install nltk"
      ],
      "metadata": {
        "colab": {
          "base_uri": "https://localhost:8080/"
        },
        "id": "3zW1muNq9YYe",
        "outputId": "0e9d1a80-5f49-420a-ba2d-d0059c062157"
      },
      "execution_count": null,
      "outputs": [
        {
          "output_type": "stream",
          "name": "stdout",
          "text": [
            "Requirement already satisfied: sentence_transformers in /usr/local/lib/python3.10/dist-packages (3.1.0)\n",
            "Requirement already satisfied: transformers<5.0.0,>=4.38.0 in /usr/local/lib/python3.10/dist-packages (from sentence_transformers) (4.44.2)\n",
            "Requirement already satisfied: tqdm in /usr/local/lib/python3.10/dist-packages (from sentence_transformers) (4.66.5)\n",
            "Requirement already satisfied: torch>=1.11.0 in /usr/local/lib/python3.10/dist-packages (from sentence_transformers) (2.4.0+cu121)\n",
            "Requirement already satisfied: numpy<2.0.0 in /usr/local/lib/python3.10/dist-packages (from sentence_transformers) (1.26.4)\n",
            "Requirement already satisfied: scikit-learn in /usr/local/lib/python3.10/dist-packages (from sentence_transformers) (1.3.2)\n",
            "Requirement already satisfied: scipy in /usr/local/lib/python3.10/dist-packages (from sentence_transformers) (1.13.1)\n",
            "Requirement already satisfied: huggingface-hub>=0.19.3 in /usr/local/lib/python3.10/dist-packages (from sentence_transformers) (0.24.6)\n",
            "Requirement already satisfied: Pillow in /usr/local/lib/python3.10/dist-packages (from sentence_transformers) (9.4.0)\n",
            "Requirement already satisfied: filelock in /usr/local/lib/python3.10/dist-packages (from huggingface-hub>=0.19.3->sentence_transformers) (3.16.0)\n",
            "Requirement already satisfied: fsspec>=2023.5.0 in /usr/local/lib/python3.10/dist-packages (from huggingface-hub>=0.19.3->sentence_transformers) (2024.6.1)\n",
            "Requirement already satisfied: packaging>=20.9 in /usr/local/lib/python3.10/dist-packages (from huggingface-hub>=0.19.3->sentence_transformers) (24.1)\n",
            "Requirement already satisfied: pyyaml>=5.1 in /usr/local/lib/python3.10/dist-packages (from huggingface-hub>=0.19.3->sentence_transformers) (6.0.2)\n",
            "Requirement already satisfied: requests in /usr/local/lib/python3.10/dist-packages (from huggingface-hub>=0.19.3->sentence_transformers) (2.32.3)\n",
            "Requirement already satisfied: typing-extensions>=3.7.4.3 in /usr/local/lib/python3.10/dist-packages (from huggingface-hub>=0.19.3->sentence_transformers) (4.12.2)\n",
            "Requirement already satisfied: sympy in /usr/local/lib/python3.10/dist-packages (from torch>=1.11.0->sentence_transformers) (1.13.2)\n",
            "Requirement already satisfied: networkx in /usr/local/lib/python3.10/dist-packages (from torch>=1.11.0->sentence_transformers) (3.3)\n",
            "Requirement already satisfied: jinja2 in /usr/local/lib/python3.10/dist-packages (from torch>=1.11.0->sentence_transformers) (3.1.4)\n",
            "Requirement already satisfied: regex!=2019.12.17 in /usr/local/lib/python3.10/dist-packages (from transformers<5.0.0,>=4.38.0->sentence_transformers) (2024.5.15)\n",
            "Requirement already satisfied: safetensors>=0.4.1 in /usr/local/lib/python3.10/dist-packages (from transformers<5.0.0,>=4.38.0->sentence_transformers) (0.4.5)\n",
            "Requirement already satisfied: tokenizers<0.20,>=0.19 in /usr/local/lib/python3.10/dist-packages (from transformers<5.0.0,>=4.38.0->sentence_transformers) (0.19.1)\n",
            "Requirement already satisfied: joblib>=1.1.1 in /usr/local/lib/python3.10/dist-packages (from scikit-learn->sentence_transformers) (1.4.2)\n",
            "Requirement already satisfied: threadpoolctl>=2.0.0 in /usr/local/lib/python3.10/dist-packages (from scikit-learn->sentence_transformers) (3.5.0)\n",
            "Requirement already satisfied: MarkupSafe>=2.0 in /usr/local/lib/python3.10/dist-packages (from jinja2->torch>=1.11.0->sentence_transformers) (2.1.5)\n",
            "Requirement already satisfied: charset-normalizer<4,>=2 in /usr/local/lib/python3.10/dist-packages (from requests->huggingface-hub>=0.19.3->sentence_transformers) (3.3.2)\n",
            "Requirement already satisfied: idna<4,>=2.5 in /usr/local/lib/python3.10/dist-packages (from requests->huggingface-hub>=0.19.3->sentence_transformers) (3.8)\n",
            "Requirement already satisfied: urllib3<3,>=1.21.1 in /usr/local/lib/python3.10/dist-packages (from requests->huggingface-hub>=0.19.3->sentence_transformers) (2.0.7)\n",
            "Requirement already satisfied: certifi>=2017.4.17 in /usr/local/lib/python3.10/dist-packages (from requests->huggingface-hub>=0.19.3->sentence_transformers) (2024.8.30)\n",
            "Requirement already satisfied: mpmath<1.4,>=1.1.0 in /usr/local/lib/python3.10/dist-packages (from sympy->torch>=1.11.0->sentence_transformers) (1.3.0)\n",
            "Requirement already satisfied: nltk in /usr/local/lib/python3.10/dist-packages (3.8.1)\n",
            "Requirement already satisfied: click in /usr/local/lib/python3.10/dist-packages (from nltk) (8.1.7)\n",
            "Requirement already satisfied: joblib in /usr/local/lib/python3.10/dist-packages (from nltk) (1.4.2)\n",
            "Requirement already satisfied: regex>=2021.8.3 in /usr/local/lib/python3.10/dist-packages (from nltk) (2024.5.15)\n",
            "Requirement already satisfied: tqdm in /usr/local/lib/python3.10/dist-packages (from nltk) (4.66.5)\n"
          ]
        }
      ]
    },
    {
      "cell_type": "markdown",
      "source": [
        "importing all the necessary libraries"
      ],
      "metadata": {
        "id": "kOKKhtKD-lb6"
      }
    },
    {
      "cell_type": "code",
      "source": [
        "import nltk\n",
        "nltk.download('punkt')\n",
        "from nltk.tokenize import word_tokenize, sent_tokenize;\n",
        "import spacy;\n",
        "from sentence_transformers import SentenceTransformer, util\n"
      ],
      "metadata": {
        "colab": {
          "base_uri": "https://localhost:8080/"
        },
        "id": "vC4RPbLf9ROl",
        "outputId": "d51205a7-3e54-48a1-ecee-c738a02baeea"
      },
      "execution_count": null,
      "outputs": [
        {
          "output_type": "stream",
          "name": "stderr",
          "text": [
            "[nltk_data] Downloading package punkt to /root/nltk_data...\n",
            "[nltk_data]   Unzipping tokenizers/punkt.zip.\n"
          ]
        }
      ]
    },
    {
      "cell_type": "markdown",
      "source": [
        "Function with various splitting techniques"
      ],
      "metadata": {
        "id": "-InQZKjq-pQc"
      }
    },
    {
      "cell_type": "code",
      "execution_count": null,
      "metadata": {
        "colab": {
          "base_uri": "https://localhost:8080/"
        },
        "id": "fpYZ963z8cuU",
        "outputId": "f02e0221-ab25-4ada-8cbc-ed7a3eec735c"
      },
      "outputs": [
        {
          "output_type": "stream",
          "name": "stdout",
          "text": [
            "\n",
            "Token Splitting:\n",
            "['Effective', 'splitting', 'enhances', 'retrieval', 'accuracy', 'and', 'context', 'preservation', '.', 'Techniques', 'include', 'token-based', '(', 'using', 'LLM', 'tokenizers', ')', ',', 'sentence-based', '(', 'NLP', 'sentence', 'detection', ')', ',', 'paragraph-based', '(', 'preserving', 'structure', ')', ',', 'and', 'semantic', 'splitting', '(', 'using', 'embeddings', 'for', 'coherence', ')', '.']\n",
            "\n",
            "Sentence Splitting:\n",
            "['Effective splitting enhances retrieval accuracy and context preservation.', 'Techniques include token-based (using LLM tokenizers), sentence-based (NLP sentence detection), paragraph-based (preserving structure), and semantic splitting (using embeddings for coherence).']\n",
            "\n",
            "Paragraph Splitting:\n",
            "['Effective splitting enhances retrieval accuracy and context preservation. Techniques include token-based (using LLM tokenizers), sentence-based (NLP sentence detection), paragraph-based (preserving structure), and semantic splitting (using embeddings for coherence).']\n",
            "\n",
            "Semantic Splitting:\n",
            "['Effective splitting enhances retrieval accuracy and context preservation', 'Techniques include token-based (using LLM tokenizers), sentence-based (NLP sentence detection), paragraph-based (preserving structure), and semantic splitting (using embeddings for coherence).']\n"
          ]
        }
      ],
      "source": [
        "def split_text(text, technique='sentence'):\n",
        "    if technique == 'token':\n",
        "        from nltk.tokenize import word_tokenize\n",
        "        return word_tokenize(text)\n",
        "    elif technique == 'sentence':\n",
        "        from nltk.tokenize import sent_tokenize\n",
        "        return sent_tokenize(text)\n",
        "    elif technique == 'paragraph':\n",
        "        return text.split('\\n\\n')\n",
        "    elif technique == 'semantic':\n",
        "        from sentence_transformers import SentenceTransformer\n",
        "        model = SentenceTransformer('all-MiniLM-L6-v2')\n",
        "        texts = text.split('. ')\n",
        "        embeddings = model.encode(texts)\n",
        "        return texts\n",
        "    else:\n",
        "        raise ValueError(\"Unknown technique\")\n",
        "\n",
        "text = \"Effective splitting enhances retrieval accuracy and context preservation. Techniques include token-based (using LLM tokenizers), sentence-based (NLP sentence detection), paragraph-based (preserving structure), and semantic splitting (using embeddings for coherence).\"\n",
        "for technique in ['token', 'sentence', 'paragraph', 'semantic']:\n",
        "    print(f\"\\n{technique.capitalize()} Splitting:\")\n",
        "    result = split_text(text, technique)\n",
        "    print(result)\n"
      ]
    }
  ]
}